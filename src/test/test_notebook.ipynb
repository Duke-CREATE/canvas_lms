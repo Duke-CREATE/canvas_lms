{
 "cells": [
  {
   "cell_type": "code",
   "execution_count": 1,
   "metadata": {},
   "outputs": [],
   "source": [
    "import os\n",
    "import math\n",
    "import glob\n",
    "from moviepy import VideoFileClip\n",
    "from pydub import AudioSegment\n",
    "from openai import OpenAI\n",
    "\n",
    "\n",
    "def transcribe_mp4(video_path, chunk_duration_minutes=5):\n",
    "    \"\"\"\n",
    "    Extracts audio from an .mp4 video, splits the audio into chunks,\n",
    "    transcribes each chunk using the Whisper API, and returns the full transcription.\n",
    "\n",
    "    :param video_path: Path to the input .mp4 video file.\n",
    "    :param chunk_duration_minutes: Duration of each chunk in minutes (default 5).\n",
    "    :return: A string containing the full transcription of the audio.\n",
    "    \"\"\"\n",
    "\n",
    "    # -------------------------------------------------------------------\n",
    "    # 1) EXTRACT AUDIO FROM VIDEO AND SAVE AS .MP3\n",
    "    # -------------------------------------------------------------------\n",
    "    try:\n",
    "        # Load the video\n",
    "        video = VideoFileClip(video_path)\n",
    "        # Derive an MP3 filename from the MP4 path (same folder, same basename)\n",
    "        base_name = os.path.splitext(os.path.basename(video_path))[0]\n",
    "        audio_file = f\"{base_name}.mp3\"\n",
    "        video.audio.write_audiofile(audio_file)\n",
    "        print(f\"Audio extracted and saved as {audio_file}\")\n",
    "    except Exception as e:\n",
    "        print(\"Error extracting audio from video:\", e)\n",
    "        return \"\"\n",
    "\n",
    "    # -------------------------------------------------------------------\n",
    "    # 2) LOAD THE AUDIO AND SPLIT INTO CHUNKS\n",
    "    # -------------------------------------------------------------------\n",
    "    try:\n",
    "        audio = AudioSegment.from_file(audio_file, format=\"mp3\")\n",
    "        print(\"Audio Imported ✅\")\n",
    "\n",
    "        # Calculate chunk sizes in milliseconds\n",
    "        chunk_length_ms = chunk_duration_minutes * 60 * 1000\n",
    "        total_length_ms = len(audio)\n",
    "        num_chunks = math.ceil(total_length_ms / chunk_length_ms)\n",
    "\n",
    "        # Create a folder to store chunks, e.g. \"myvideo_chunks\"\n",
    "        chunk_folder = f\"{base_name}_chunks\"\n",
    "        os.makedirs(chunk_folder, exist_ok=True)\n",
    "\n",
    "        # Export each chunk as .mp3\n",
    "        for i in range(num_chunks):\n",
    "            start_ms = i * chunk_length_ms\n",
    "            end_ms = min((i + 1) * chunk_length_ms, total_length_ms)\n",
    "            chunk = audio[start_ms:end_ms]\n",
    "            chunk_file = os.path.join(chunk_folder, f\"{base_name}_{i}.mp3\")\n",
    "            chunk.export(chunk_file, format=\"mp3\")\n",
    "\n",
    "        print(\"Chunks created ✅\")\n",
    "\n",
    "    except Exception as e:\n",
    "        print(\"Error creating audio chunks:\", e)\n",
    "        return \"\"\n",
    "\n",
    "    # -------------------------------------------------------------------\n",
    "    # 3) TRANSCRIBE AUDIO CHUNKS WITH OPENAI WHISPER\n",
    "    # -------------------------------------------------------------------\n",
    "    transcripts = []\n",
    "    try:\n",
    "        client = OpenAI()  # Based on your snippet - adjust if using 'import openai'\n",
    "        # Find each chunk file in ascending order\n",
    "        chunk_files = sorted(\n",
    "            glob.glob(os.path.join(chunk_folder, f\"{base_name}_*.mp3\"))\n",
    "        )\n",
    "\n",
    "        for chunk_file in chunk_files:\n",
    "            with open(chunk_file, \"rb\") as f:\n",
    "                transcription = client.audio.transcriptions.create(\n",
    "                    model=\"whisper-1\", file=f\n",
    "                )\n",
    "                transcripts.append(transcription.text)\n",
    "\n",
    "        full_transcription = \" \".join(transcripts)\n",
    "        print(\"Full transcription done ✅\")\n",
    "\n",
    "    except Exception as e:\n",
    "        print(\"Error transcribing chunks:\", e)\n",
    "        return \"\"\n",
    "\n",
    "    # -------------------------------------------------------------------\n",
    "    # 4) RETURN THE COMBINED TRANSCRIPTION\n",
    "    # -------------------------------------------------------------------\n",
    "    return full_transcription"
   ]
  },
  {
   "cell_type": "code",
   "execution_count": 2,
   "metadata": {},
   "outputs": [
    {
     "name": "stdout",
     "output_type": "stream",
     "text": [
      "{'video_found': True, 'audio_found': True, 'metadata': {'major_brand': 'mp42', 'minor_version': '0', 'compatible_brands': 'mp42isom'}, 'inputs': [{'streams': [{'input_number': 0, 'stream_number': 0, 'stream_type': 'video', 'language': None, 'default': True, 'size': [480, 848], 'bitrate': 1348, 'fps': 29.63, 'codec_name': 'h264', 'profile': '(Baseline)', 'metadata': {'Metadata': '', 'vendor_id': '[0][0][0][0]'}}, {'input_number': 0, 'stream_number': 1, 'stream_type': 'audio', 'language': None, 'default': True, 'fps': 44100, 'bitrate': 60, 'metadata': {'Metadata': '', 'vendor_id': '[0][0][0][0]'}}], 'input_number': 0}], 'duration': 64.1, 'bitrate': 1412, 'start': 0.0, 'default_video_input_number': 0, 'default_video_stream_number': 0, 'video_codec_name': 'h264', 'video_profile': '(Baseline)', 'video_size': [480, 848], 'video_bitrate': 1348, 'video_fps': 29.63, 'default_audio_input_number': 0, 'default_audio_stream_number': 1, 'audio_fps': 44100, 'audio_bitrate': 60, 'video_duration': 64.1, 'video_n_frames': 1899}\n",
      "/Users/rafaeldavila/Documents/Duke/CREATE/TA_project/canvas_lms/venv/lib/python3.11/site-packages/imageio_ffmpeg/binaries/ffmpeg-macos-aarch64-v7.1 -i ../test/podcast.MP4 -loglevel error -f image2pipe -vf scale=480:848 -sws_flags bicubic -pix_fmt rgb24 -vcodec rawvideo -\n",
      "MoviePy - Writing audio in podcast.mp3\n"
     ]
    },
    {
     "name": "stderr",
     "output_type": "stream",
     "text": [
      "                                                                      \r"
     ]
    },
    {
     "name": "stdout",
     "output_type": "stream",
     "text": [
      "MoviePy - Done.\n",
      "Audio extracted and saved as podcast.mp3\n",
      "Audio Imported ✅\n",
      "Chunks created ✅\n",
      "Full transcription done ✅\n"
     ]
    },
    {
     "data": {
      "text/plain": [
       "\"If you're going to try, go all the way. Otherwise, don't even start. If you're going to try, go all the way. This can mean losing girlfriends, wives, relatives, jobs, and maybe your mind. Go all the way. It can mean not eating for three or four days. It can mean freezing on a park bench. It can mean jail. It can mean derision, mockery, isolation. Isolation is the gift. All the others are a test of your endurance. How much you really want to do it. And you'll do it. Despite rejection and the worst odds, it will be better than anything you can imagine. If you're going to try, go all the way. There's no other feeling like that. You'll be alone with the gods, and the knights will flame with fire. Do it. Do it. All the way. All the way. You will ride life straight to perfect laughter. It's the only good fight there is.\""
      ]
     },
     "execution_count": 2,
     "metadata": {},
     "output_type": "execute_result"
    }
   ],
   "source": [
    "video_path = \"../test/podcast.MP4\"\n",
    "transcription_text = transcribe_mp4(video_path)\n",
    "transcription_text"
   ]
  },
  {
   "cell_type": "code",
   "execution_count": null,
   "metadata": {},
   "outputs": [],
   "source": [
    "video_path = \"../test/podcast.MP4\"\n",
    "transcription_text = transcribe_mp4(video_path)\n",
    "transcription_text = \"test\""
   ]
  },
  {
   "cell_type": "code",
   "execution_count": 6,
   "metadata": {},
   "outputs": [
    {
     "data": {
      "text/plain": [
       "'podcast.MP4'"
      ]
     },
     "execution_count": 6,
     "metadata": {},
     "output_type": "execute_result"
    }
   ],
   "source": [
    "video_path.split(\"/\")[-1]"
   ]
  },
  {
   "cell_type": "code",
   "execution_count": 7,
   "metadata": {},
   "outputs": [
    {
     "data": {
      "text/plain": [
       "'test'"
      ]
     },
     "execution_count": 7,
     "metadata": {},
     "output_type": "execute_result"
    }
   ],
   "source": [
    "transcription_text"
   ]
  },
  {
   "cell_type": "code",
   "execution_count": 14,
   "metadata": {},
   "outputs": [
    {
     "name": "stdout",
     "output_type": "stream",
     "text": [
      "Generated ID key: ID20250212114138_vi\n"
     ]
    }
   ],
   "source": [
    "from datetime import datetime\n",
    "import os\n",
    "\n",
    "\n",
    "def generate_idkey(filename: str) -> str:\n",
    "    \"\"\"\n",
    "    Generate an ID key composed of the current timestamp (in YYYYMMDDHHMMSS format)\n",
    "    and the first two characters of the base filename.\n",
    "\n",
    "    Args:\n",
    "        filename (str): The name (or full path) of the file.\n",
    "\n",
    "    Returns:\n",
    "        str: The generated ID key.\n",
    "    \"\"\"\n",
    "    # Extract just the base name of the file\n",
    "    base_filename = os.path.basename(filename)\n",
    "    # Get the first two characters (or the full filename if it's shorter than 2)\n",
    "    prefix = base_filename[:2]\n",
    "    # Generate a timestamp string\n",
    "    timestamp = datetime.now().strftime(\"%Y%m%d%H%M%S\")\n",
    "    # Combine timestamp and prefix with an underscore\n",
    "    idkey = f\"ID{timestamp}_{prefix}\"\n",
    "    return idkey\n",
    "\n",
    "\n",
    "# Example usage:\n",
    "filename = \"/path/to/video.mp4\"\n",
    "print(\"Generated ID key:\", generate_idkey(filename))"
   ]
  },
  {
   "cell_type": "code",
   "execution_count": 8,
   "metadata": {},
   "outputs": [
    {
     "name": "stderr",
     "output_type": "stream",
     "text": [
      "/var/folders/qq/17cwmxhd3jv_w07w8pf57y5r0000gn/T/ipykernel_65156/1797487321.py:9: UserWarning: You appear to be connected to a CosmosDB cluster. For more information regarding feature compatibility and support please visit https://www.mongodb.com/supportability/cosmosdb\n",
      "  client = MongoClient(connection_string)\n"
     ]
    },
    {
     "name": "stdout",
     "output_type": "stream",
     "text": [
      "Inserted document with id: 67acd082331d15f2fbc41941\n"
     ]
    }
   ],
   "source": [
    "from pymongo import MongoClient\n",
    "from dotenv import load_dotenv\n",
    "\n",
    "load_dotenv()\n",
    "\n",
    "connection_string = os.getenv(\"connection_string\")\n",
    "\n",
    "# Create a MongoClient\n",
    "client = MongoClient(connection_string)\n",
    "\n",
    "# Access a database (if it doesn’t exist, MongoDB will create it on first write)\n",
    "db = client[\"CanvasDB\"]\n",
    "\n",
    "# Access a collection within the database\n",
    "collection = db[\"Transcripts\"]\n",
    "\n",
    "\n",
    "# Test by inserting a document\n",
    "result = collection.insert_one(\n",
    "    {\"file_name\": video_path.split(\"/\")[-1], \"transcript\": transcription_text}\n",
    ")\n",
    "print(\"Inserted document with id:\", result.inserted_id)"
   ]
  },
  {
   "cell_type": "code",
   "execution_count": null,
   "metadata": {},
   "outputs": [],
   "source": [
    "def insert_transcript(transcript: str, file_name: str, course_name: str) -> str:\n",
    "    \"\"\"\n",
    "    Inserts a transcript document into the CanvasDB.Transcripts collection if the transcript is not empty.\n",
    "\n",
    "    Parameters:\n",
    "        transcript (str): The transcript text.\n",
    "        file_name (str): The name of the file.\n",
    "        course_name (str): The name of the course.\n",
    "\n",
    "    Returns:\n",
    "        str: The inserted document's id as a string if successful; an empty string otherwise.\n",
    "    \"\"\"\n",
    "    # Check if the transcript is empty or only whitespace\n",
    "    if not transcript or not transcript.strip():\n",
    "        print(\"Transcript is empty. Aborting upload.\")\n",
    "        return \"\"\n",
    "\n",
    "    try:\n",
    "        # Load environment variables from the .env file\n",
    "        load_dotenv()\n",
    "        connection_string = os.getenv(\"connection_string\")\n",
    "        if not connection_string:\n",
    "            raise ValueError(\"Connection string not found in environment variables.\")\n",
    "\n",
    "        # Create a MongoClient and access the database and collection\n",
    "        client = MongoClient(connection_string)\n",
    "        db = client[\"CanvasDB\"]\n",
    "        collection = db[\"Transcripts\"]\n",
    "\n",
    "        # Prepare the document to insert\n",
    "        document = {\n",
    "            \"file_name\": file_name,\n",
    "            \"transcript\": transcript,\n",
    "            \"course_name\": course_name,\n",
    "        }\n",
    "\n",
    "        # Insert the document into the collection\n",
    "        result = collection.insert_one(document)\n",
    "        print(\"Inserted document with id:\", result.inserted_id)\n",
    "        return str(result.inserted_id)\n",
    "\n",
    "    except Exception as e:\n",
    "        # Print error message to help with debugging\n",
    "        print(\"Error inserting transcript:\", e)\n",
    "        return \"\"\n",
    "\n",
    "\n",
    "if __name__ == \"__main__\":\n",
    "    # Example usage\n",
    "    video_path = \"test/podcast.MP4\"\n",
    "    transcription_text = transcribe_mp4(video_path)\n",
    "    print(\"\\nFINAL TRANSCRIPTION:\\n\", transcription_text[:100])\n",
    "\n",
    "    insert_transcript(transcription_text, file_name=\"test\", course_name=\"test_course\")"
   ]
  }
 ],
 "metadata": {
  "kernelspec": {
   "display_name": "venv",
   "language": "python",
   "name": "python3"
  },
  "language_info": {
   "codemirror_mode": {
    "name": "ipython",
    "version": 3
   },
   "file_extension": ".py",
   "mimetype": "text/x-python",
   "name": "python",
   "nbconvert_exporter": "python",
   "pygments_lexer": "ipython3",
   "version": "3.11.5"
  }
 },
 "nbformat": 4,
 "nbformat_minor": 2
}
